{
  "nbformat": 4,
  "nbformat_minor": 0,
  "metadata": {
    "colab": {
      "provenance": []
    },
    "kernelspec": {
      "name": "python3",
      "display_name": "Python 3"
    },
    "language_info": {
      "name": "python"
    }
  },
  "cells": [
    {
      "cell_type": "code",
      "execution_count": null,
      "metadata": {
        "id": "51ngokuwWo-6"
      },
      "outputs": [],
      "source": [
        "# MLP for Predicting CHD Risk\n",
        "\n",
        "from tensorflow.keras.models import Sequential\n",
        "from tensorflow.keras.layers import Dense, Dropout\n",
        "from tensorflow.keras.optimizers import Adam\n",
        "from tensorflow.keras.callbacks import EarlyStopping\n",
        "from sklearn.metrics import classification_report, roc_auc_score\n",
        "\n",
        "# Defining the model architecture\n",
        "mlp_model = Sequential()\n",
        "mlp_model.add(Dense(64, activation='relu', input_shape=(X_train.shape[1],)))\n",
        "mlp_model.add(Dropout(0.3))\n",
        "mlp_model.add(Dense(32, activation='relu'))\n",
        "mlp_model.add(Dropout(0.3))\n",
        "mlp_model.add(Dense(1, activation='sigmoid'))  # Output layer for binary classification\n",
        "\n",
        "# Compiling the model\n",
        "mlp_model.compile(optimizer=Adam(learning_rate=0.001),\n",
        "                  loss='binary_crossentropy',\n",
        "                  metrics=['accuracy'])\n",
        "\n",
        "# Early stopping to avoid overfitting\n",
        "early_stop = EarlyStopping(monitor='val_loss', patience=5, restore_best_weights=True)\n",
        "\n",
        "# Training the model\n",
        "history = mlp_model.fit(X_train, y_train,\n",
        "                        validation_split=0.2,\n",
        "                        epochs=50,\n",
        "                        batch_size=32,\n",
        "                        callbacks=[early_stop],\n",
        "                        verbose=1)\n",
        "\n",
        "# Prediction on test set\n",
        "y_proba_dl = mlp_model.predict(X_test).flatten()\n",
        "y_pred_dl = (y_proba_dl > 0.5).astype(int)\n",
        "\n",
        "# Evaluating performance\n",
        "print(\"MLP Classification Report:\")\n",
        "print(classification_report(y_test, y_pred_dl))\n",
        "print(f\"AUC Score: {roc_auc_score(y_test, y_proba_dl):.2f}\")"
      ]
    },
    {
      "cell_type": "code",
      "source": [
        "# Visualize training and validation accuracy over epochs\n",
        "\n",
        "import matplotlib.pyplot as plt\n",
        "\n",
        "plt.plot(history.history['accuracy'], label='Train Accuracy')\n",
        "plt.plot(history.history['val_accuracy'], label='Validation Accuracy')\n",
        "plt.title(\"MLP Training Accuracy over Epochs\")\n",
        "plt.xlabel(\"Epoch\")\n",
        "plt.ylabel(\"Accuracy\")\n",
        "plt.legend()\n",
        "plt.grid(True)\n",
        "plt.tight_layout()\n",
        "plt.show()"
      ],
      "metadata": {
        "id": "t-6McoZ8Wqj5"
      },
      "execution_count": null,
      "outputs": []
    }
  ]
}