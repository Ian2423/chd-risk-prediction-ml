{
  "nbformat": 4,
  "nbformat_minor": 0,
  "metadata": {
    "colab": {
      "provenance": []
    },
    "kernelspec": {
      "name": "python3",
      "display_name": "Python 3"
    },
    "language_info": {
      "name": "python"
    }
  },
  "cells": [
    {
      "cell_type": "code",
      "execution_count": null,
      "metadata": {
        "id": "VofAODO8WWRh"
      },
      "outputs": [],
      "source": [
        "### Support Vector Machine (SVM) Classifier Code\n",
        "\n",
        "```python\n",
        "# SVM Classifier for Predicting CHD Risk\n",
        "\n",
        "from sklearn.svm import SVC\n",
        "from sklearn.metrics import classification_report, roc_auc_score\n",
        "\n",
        "# Initialize an SVM classifier with a linear kernel\n",
        "svm_model = SVC(kernel='linear', probability=True, class_weight='balanced', random_state=42)\n",
        "\n",
        "# Training the model\n",
        "svm_model.fit(X_train, y_train)\n",
        "\n",
        "# Prediction on the test set\n",
        "svm_predictions = svm_model.predict(X_test)\n",
        "svm_probabilities = svm_model.predict_proba(X_test)[:, 1]\n",
        "\n",
        "# Evaluation metrics\n",
        "print(\"SVM Classification Report:\")\n",
        "print(classification_report(y_test, svm_predictions))\n",
        "\n",
        "# AUC Score\n",
        "svm_auc = roc_auc_score(y_test, svm_probabilities)\n",
        "print(f\"SVM AUC Score: {svm_auc:.2f}\")"
      ]
    },
    {
      "cell_type": "code",
      "source": [],
      "metadata": {
        "id": "1ZuCp-uIWbaW"
      },
      "execution_count": null,
      "outputs": []
    }
  ]
}